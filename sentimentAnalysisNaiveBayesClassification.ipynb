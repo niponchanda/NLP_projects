{
  "nbformat": 4,
  "nbformat_minor": 0,
  "metadata": {
    "kernelspec": {
      "display_name": "Python 3",
      "language": "python",
      "name": "python3"
    },
    "language_info": {
      "codemirror_mode": {
        "name": "ipython",
        "version": 3
      },
      "file_extension": ".py",
      "mimetype": "text/x-python",
      "name": "python",
      "nbconvert_exporter": "python",
      "pygments_lexer": "ipython3",
      "version": "3.7.3"
    },
    "colab": {
      "name": "sentimentAnalysisNaiveBayesClassification.ipynb",
      "provenance": [],
      "toc_visible": true
    }
  },
  "cells": [
    {
      "cell_type": "markdown",
      "metadata": {
        "id": "NHr-k4yyiJeB"
      },
      "source": [
        "The dataset is comprised of tab-separated files with phrases from the Rotten Tomatoes dataset. \n",
        "\n",
        "train.tsv contains the phrases and their associated sentiment labels.\n",
        "\n",
        "The sentiment labels are:\n",
        "\n",
        "0 - negative\n",
        "1 - somewhat negative\n",
        "2 - neutral\n",
        "3 - somewhat positive\n",
        "4 - positive"
      ]
    },
    {
      "cell_type": "code",
      "metadata": {
        "id": "TxKy7u9OiJeK"
      },
      "source": [
        "import pandas as pd\n",
        "from sklearn.feature_extraction.text import CountVectorizer\n",
        "from nltk.tokenize import RegexpTokenizer\n"
      ],
      "execution_count": 137,
      "outputs": []
    },
    {
      "cell_type": "code",
      "metadata": {
        "colab": {
          "base_uri": "https://localhost:8080/",
          "height": 202
        },
        "id": "OYk2dF9jiJeM",
        "outputId": "9ed02e72-2dff-480e-d988-178654515e22"
      },
      "source": [
        "\r\n",
        "df = pd.read_csv('train.tsv', sep='\\t')\r\n",
        "\r\n",
        "dataset = pd.DataFrame(df)\r\n",
        "dataset.head()"
      ],
      "execution_count": 138,
      "outputs": [
        {
          "output_type": "execute_result",
          "data": {
            "text/html": [
              "<div>\n",
              "<style scoped>\n",
              "    .dataframe tbody tr th:only-of-type {\n",
              "        vertical-align: middle;\n",
              "    }\n",
              "\n",
              "    .dataframe tbody tr th {\n",
              "        vertical-align: top;\n",
              "    }\n",
              "\n",
              "    .dataframe thead th {\n",
              "        text-align: right;\n",
              "    }\n",
              "</style>\n",
              "<table border=\"1\" class=\"dataframe\">\n",
              "  <thead>\n",
              "    <tr style=\"text-align: right;\">\n",
              "      <th></th>\n",
              "      <th>PhraseId</th>\n",
              "      <th>SentenceId</th>\n",
              "      <th>Phrase</th>\n",
              "      <th>Sentiment</th>\n",
              "    </tr>\n",
              "  </thead>\n",
              "  <tbody>\n",
              "    <tr>\n",
              "      <th>0</th>\n",
              "      <td>1</td>\n",
              "      <td>1</td>\n",
              "      <td>A series of escapades demonstrating the adage ...</td>\n",
              "      <td>1</td>\n",
              "    </tr>\n",
              "    <tr>\n",
              "      <th>1</th>\n",
              "      <td>2</td>\n",
              "      <td>1</td>\n",
              "      <td>A series of escapades demonstrating the adage ...</td>\n",
              "      <td>2</td>\n",
              "    </tr>\n",
              "    <tr>\n",
              "      <th>2</th>\n",
              "      <td>3</td>\n",
              "      <td>1</td>\n",
              "      <td>A series</td>\n",
              "      <td>2</td>\n",
              "    </tr>\n",
              "    <tr>\n",
              "      <th>3</th>\n",
              "      <td>4</td>\n",
              "      <td>1</td>\n",
              "      <td>A</td>\n",
              "      <td>2</td>\n",
              "    </tr>\n",
              "    <tr>\n",
              "      <th>4</th>\n",
              "      <td>5</td>\n",
              "      <td>1</td>\n",
              "      <td>series</td>\n",
              "      <td>2</td>\n",
              "    </tr>\n",
              "  </tbody>\n",
              "</table>\n",
              "</div>"
            ],
            "text/plain": [
              "   PhraseId  ...  Sentiment\n",
              "0         1  ...          1\n",
              "1         2  ...          2\n",
              "2         3  ...          2\n",
              "3         4  ...          2\n",
              "4         5  ...          2\n",
              "\n",
              "[5 rows x 4 columns]"
            ]
          },
          "metadata": {
            "tags": []
          },
          "execution_count": 138
        }
      ]
    },
    {
      "cell_type": "code",
      "metadata": {
        "colab": {
          "base_uri": "https://localhost:8080/",
          "height": 265
        },
        "id": "X6dURjpmiJeO",
        "outputId": "8b5da679-e82b-40e0-c1b2-d9c5068d902d"
      },
      "source": [
        "\r\n",
        "dataset.Sentiment.value_counts().plot(kind='pie', autopct='%1.0f%%', colors=[\"red\", \"yellow\", \"green\", \"blue\", \"violet\"])"
      ],
      "execution_count": 139,
      "outputs": [
        {
          "output_type": "execute_result",
          "data": {
            "text/plain": [
              "<matplotlib.axes._subplots.AxesSubplot at 0x7fa98dc30160>"
            ]
          },
          "metadata": {
            "tags": []
          },
          "execution_count": 139
        },
        {
          "output_type": "display_data",
          "data": {
            "image/png": "[encoded data removed]",
            "text/plain": [
              "<Figure size 432x288 with 1 Axes>"
            ]
          },
          "metadata": {
            "tags": []
          }
        }
      ]
    },
    {
      "cell_type": "code",
      "metadata": {
        "id": "S-9HhVrDiJeO"
      },
      "source": [
        "\n",
        "token = RegexpTokenizer(r'[a-zA-Z0-9]+')\n",
        "cv = CountVectorizer(stop_words='english',ngram_range = (1,1),tokenizer = token.tokenize)\n",
        "text_counts = cv.fit_transform(dataset['Phrase'])\n",
        "\n",
        "\n"
      ],
      "execution_count": 140,
      "outputs": []
    },
    {
      "cell_type": "code",
      "metadata": {
        "id": "ymRL1s1JiJeP"
      },
      "source": [
        "# text_counts would be used as x ( features ) and data[\"Sentiment\"] as y\r\n",
        "from sklearn.model_selection import train_test_split\r\n",
        "X_train, X_test, y_train, y_test = train_test_split(\r\n",
        "    text_counts, dataset['Sentiment'], test_size=0.2, random_state=1)\r\n"
      ],
      "execution_count": 141,
      "outputs": []
    },
    {
      "cell_type": "markdown",
      "metadata": {
        "id": "XGQPDaPdiJeQ"
      },
      "source": [
        "## Train Multinomial Naive Bayes Classification model using Sklearn"
      ]
    },
    {
      "cell_type": "code",
      "metadata": {
        "colab": {
          "base_uri": "https://localhost:8080/"
        },
        "id": "DXb3o005iJeQ",
        "outputId": "76d1318c-dc39-4939-9046-6d94c993c4b6"
      },
      "source": [
        "from sklearn.naive_bayes import MultinomialNB\r\n",
        "#Import scikit-learn metrics module for accuracy calculation\r\n",
        "from sklearn import metrics\r\n",
        "# Model Generation Using Multinomial Naive Bayes\r\n",
        "clf = MultinomialNB().fit(X_train, y_train)\r\n",
        "predicted= clf.predict(X_train)\r\n",
        "print(\"MultinomialNB Accuracy:\",metrics.accuracy_score(y_train, predicted))"
      ],
      "execution_count": 142,
      "outputs": [
        {
          "output_type": "stream",
          "text": [
            "MultinomialNB Accuracy: 0.6712642573369217\n"
          ],
          "name": "stdout"
        }
      ]
    },
    {
      "cell_type": "code",
      "metadata": {
        "id": "HIilfQ01Mz2P"
      },
      "source": [
        "import pickle\r\n",
        "with open('model.pkl','wb') as f:\r\n",
        "    pickle.dump(clf,f)"
      ],
      "execution_count": 143,
      "outputs": []
    },
    {
      "cell_type": "markdown",
      "metadata": {
        "id": "cmGs3CN-iJeQ"
      },
      "source": [
        "## Calculating the Test Accuracy , Precision , Recall , Confusion Matrix on test data"
      ]
    },
    {
      "cell_type": "code",
      "metadata": {
        "colab": {
          "base_uri": "https://localhost:8080/"
        },
        "id": "wPhjNO0PiJeR",
        "outputId": "ddca89c0-9966-4dd0-f339-2d0ad6f99c17"
      },
      "source": [
        "#Test accuracy\r\n",
        "predicted= clf.predict(X_test)\r\n",
        "print(\"MultinomialNB Accuracy:\", metrics.accuracy_score(y_test, predicted))\r\n"
      ],
      "execution_count": 144,
      "outputs": [
        {
          "output_type": "stream",
          "text": [
            "MultinomialNB Accuracy: 0.6069140074330386\n"
          ],
          "name": "stdout"
        }
      ]
    },
    {
      "cell_type": "code",
      "metadata": {
        "colab": {
          "base_uri": "https://localhost:8080/"
        },
        "id": "I281HiptuUnm",
        "outputId": "9aa5b6a3-a706-422a-a3be-3d53a699b7a9"
      },
      "source": [
        "# confusion matrix\r\n",
        "from sklearn.metrics import confusion_matrix\r\n",
        "confusion_matrix(y_test, predicted)"
      ],
      "execution_count": 145,
      "outputs": [
        {
          "output_type": "execute_result",
          "data": {
            "text/plain": [
              "array([[  398,   650,   322,    41,     8],\n",
              "       [  367,  2320,  2498,   304,    23],\n",
              "       [  141,  1469, 12422,  1809,   123],\n",
              "       [    9,   246,  2566,  3271,   462],\n",
              "       [    6,    31,   278,   916,   532]])"
            ]
          },
          "metadata": {
            "tags": []
          },
          "execution_count": 145
        }
      ]
    },
    {
      "cell_type": "code",
      "metadata": {
        "colab": {
          "base_uri": "https://localhost:8080/"
        },
        "id": "5Xs7QnBRwMBh",
        "outputId": "abc69a6a-3815-4ab3-c100-f7a6da03710c"
      },
      "source": [
        "from sklearn.metrics import confusion_matrix\r\n",
        "import numpy as np\r\n",
        "\r\n",
        "cm = confusion_matrix(y_test, predicted)\r\n",
        "recall = np.diag(cm) / np.sum(cm, axis = 1)\r\n",
        "precision = np.diag(cm) / np.sum(cm, axis = 0)\r\n",
        "Recall = np.mean(recall)\r\n",
        "Precision = np.mean(precision)\r\n",
        "print(f' Recall: {Recall}')\r\n",
        "print(f' Precision: {Precision}')"
      ],
      "execution_count": 146,
      "outputs": [
        {
          "output_type": "stream",
          "text": [
            " Recall: 0.45606954870774635\n",
            " Precision: 0.5180349529211944\n"
          ],
          "name": "stdout"
        }
      ]
    },
    {
      "cell_type": "code",
      "metadata": {
        "id": "3rN3fxxp06WM"
      },
      "source": [
        "# inference\r\n",
        "def predict(review):\r\n",
        "\r\n",
        "  # 0 - negative 1 - somewhat negative 2 - neutral 3 - somewhat positive 4 - positive\r\n",
        "  categories = {0: \"Negative\", 1:\"Somewhat Negative\", 2:\"Neutral\", 3: \"Somewhat Positive\", 4: \"Positive\"}\r\n",
        "  dataset[\"Phrase\"][0] = review\r\n",
        "  token = RegexpTokenizer(r'[a-zA-Z0-9]+')\r\n",
        "  cv = CountVectorizer(stop_words='english',ngram_range = (1,1),tokenizer = token.tokenize)\r\n",
        "  d = cv.fit_transform(dataset[\"Phrase\"])\r\n",
        "  label = clf.predict(d[0])\r\n",
        "  return categories[label.item()]\r\n",
        "\r\n",
        "\r\n"
      ],
      "execution_count": 153,
      "outputs": []
    },
    {
      "cell_type": "markdown",
      "metadata": {
        "id": "p1bD0AvPiJeR"
      },
      "source": [
        "## Predict the class for the sentence : \"I ate pizza last night at dominos which was very healthy and tasty\""
      ]
    },
    {
      "cell_type": "code",
      "metadata": {
        "colab": {
          "base_uri": "https://localhost:8080/",
          "height": 142
        },
        "id": "n9jmGYXNwiXC",
        "outputId": "9b3cf657-2b5e-4ce4-edd7-e012bddf3397"
      },
      "source": [
        "review = \"A valid explanation for why Trump won't let women on the golf course.\"\r\n",
        "predict(review)"
      ],
      "execution_count": 154,
      "outputs": [
        {
          "output_type": "stream",
          "text": [
            "/usr/local/lib/python3.6/dist-packages/ipykernel_launcher.py:6: SettingWithCopyWarning: \n",
            "A value is trying to be set on a copy of a slice from a DataFrame\n",
            "\n",
            "See the caveats in the documentation: https://pandas.pydata.org/pandas-docs/stable/user_guide/indexing.html#returning-a-view-versus-a-copy\n",
            "  \n"
          ],
          "name": "stderr"
        },
        {
          "output_type": "execute_result",
          "data": {
            "application/vnd.google.colaboratory.intrinsic+json": {
              "type": "string"
            },
            "text/plain": [
              "'Somewhat Negative'"
            ]
          },
          "metadata": {
            "tags": []
          },
          "execution_count": 154
        }
      ]
    },
    {
      "cell_type": "code",
      "metadata": {
        "colab": {
          "base_uri": "https://localhost:8080/",
          "height": 142
        },
        "id": "uHO_6tOq2XsH",
        "outputId": "d05ceaef-696a-4283-fa06-e43859384401"
      },
      "source": [
        "review = \"I ate pizza last night which was very healthy and tasty\"\r\n",
        "predict(review)"
      ],
      "execution_count": 155,
      "outputs": [
        {
          "output_type": "stream",
          "text": [
            "/usr/local/lib/python3.6/dist-packages/ipykernel_launcher.py:6: SettingWithCopyWarning: \n",
            "A value is trying to be set on a copy of a slice from a DataFrame\n",
            "\n",
            "See the caveats in the documentation: https://pandas.pydata.org/pandas-docs/stable/user_guide/indexing.html#returning-a-view-versus-a-copy\n",
            "  \n"
          ],
          "name": "stderr"
        },
        {
          "output_type": "execute_result",
          "data": {
            "application/vnd.google.colaboratory.intrinsic+json": {
              "type": "string"
            },
            "text/plain": [
              "'Somewhat Positive'"
            ]
          },
          "metadata": {
            "tags": []
          },
          "execution_count": 155
        }
      ]
    },
    {
      "cell_type": "code",
      "metadata": {
        "id": "IOs9q_Ap2hqk"
      },
      "source": [
        ""
      ],
      "execution_count": null,
      "outputs": []
    }
  ]
}